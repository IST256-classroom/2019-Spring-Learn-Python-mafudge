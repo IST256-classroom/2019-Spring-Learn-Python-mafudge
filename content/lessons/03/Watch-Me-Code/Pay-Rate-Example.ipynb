{
 "cells": [
  {
   "cell_type": "markdown",
   "metadata": {},
   "source": [
    "inputs: hourly rate, hours worked, tax rate\n",
    "outputs: gross pay and net pay\n",
    "\n",
    "1. input hourly rate \n",
    "2. input hours worked\n",
    "3. input tax rate\n",
    "4. gross pay = hourly rate x hours worked \n",
    "5. tax = tax rate x gross pay\n",
    "6. net pay = gross pay - tax\n",
    "7. print gross pay, tax, net pay"
   ]
  },
  {
   "cell_type": "code",
   "execution_count": 5,
   "metadata": {},
   "outputs": [
    {
     "name": "stdout",
     "output_type": "stream",
     "text": [
      "Enter hourly rate: 10\n",
      "Enter hours worked: 10\n",
      "Enter tax rate: .10\n",
      "100.0 10.0 90.0\n",
      "Gross Pay.... $ 100.00 \n",
      "Tax.......... $ 10.00 \n",
      "Net Pay...... $ 90.00 \n"
     ]
    }
   ],
   "source": [
    "hourly_rate = float(input(\"Enter hourly rate: \"))\n",
    "hours_worked = int(input(\"Enter hours worked: \"))\n",
    "tax_rate = float(input(\"Enter tax rate: \"))\n",
    "gross_pay = hourly_rate * hours_worked\n",
    "tax = tax_rate * gross_pay\n",
    "net_pay = gross_pay - tax\n",
    "print(\"%-10s.... $ %.2f \"  % ( \"Gross Pay\", gross_pay))\n",
    "print(\"Tax.......... $ %.2f \"  % tax)\n",
    "print(\"Net Pay...... $ %.2f \"  % net_pay)\n"
   ]
  },
  {
   "cell_type": "code",
   "execution_count": 16,
   "metadata": {},
   "outputs": [
    {
     "name": "stdout",
     "output_type": "stream",
     "text": [
      "Gross Pay..... $-100.00 \n",
      "Tax........... $  10.00 \n",
      "Net Pay....... $  90.00 \n"
     ]
    }
   ],
   "source": [
    "print(\"%-10s.... $ %7.2f \"  % (\"Gross Pay.\", - gross_pay))\n",
    "print(\"%-10s.... $ %7.2f \"  % (\"Tax.......\", tax))\n",
    "print(\"%-10s.... $ %7.2f \"  % (\"Net Pay...\", net_pay))"
   ]
  },
  {
   "cell_type": "code",
   "execution_count": null,
   "metadata": {},
   "outputs": [],
   "source": [
    "print(\"%s]\")"
   ]
  }
 ],
 "metadata": {
  "kernelspec": {
   "display_name": "Python 3",
   "language": "python",
   "name": "python3"
  },
  "language_info": {
   "codemirror_mode": {
    "name": "ipython",
    "version": 3
   },
   "file_extension": ".py",
   "mimetype": "text/x-python",
   "name": "python",
   "nbconvert_exporter": "python",
   "pygments_lexer": "ipython3",
   "version": "3.6.6"
  }
 },
 "nbformat": 4,
 "nbformat_minor": 2
}
