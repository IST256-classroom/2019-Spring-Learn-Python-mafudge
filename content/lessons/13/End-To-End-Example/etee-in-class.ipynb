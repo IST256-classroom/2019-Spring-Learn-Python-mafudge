{
 "cells": [
  {
   "cell_type": "markdown",
   "metadata": {},
   "source": [
    "# End-To-End Example: Plotting and Mapping Potholes\n",
    "\n",
    "Let's do a data analysis of Syracuse Potholes based on data from the civic hackathon https://cityofsyracuse.github.io/RoadsChallenge/ \n",
    "\n",
    "We will plot data and display pothole locations on a map!\n"
   ]
  },
  {
   "cell_type": "code",
   "execution_count": 5,
   "metadata": {},
   "outputs": [
    {
     "data": {
      "text/html": [
       "<div>\n",
       "<style scoped>\n",
       "    .dataframe tbody tr th:only-of-type {\n",
       "        vertical-align: middle;\n",
       "    }\n",
       "\n",
       "    .dataframe tbody tr th {\n",
       "        vertical-align: top;\n",
       "    }\n",
       "\n",
       "    .dataframe thead th {\n",
       "        text-align: right;\n",
       "    }\n",
       "</style>\n",
       "<table border=\"1\" class=\"dataframe\">\n",
       "  <thead>\n",
       "    <tr style=\"text-align: right;\">\n",
       "      <th></th>\n",
       "      <th>StreetNumber</th>\n",
       "      <th>StreetName</th>\n",
       "      <th>StreetNamePostType</th>\n",
       "      <th>Directional</th>\n",
       "      <th>strLocation</th>\n",
       "      <th>dtTime</th>\n",
       "      <th>STREET_ID</th>\n",
       "      <th>VehicleName</th>\n",
       "      <th>Latitude</th>\n",
       "      <th>Longitude</th>\n",
       "    </tr>\n",
       "  </thead>\n",
       "  <tbody>\n",
       "    <tr>\n",
       "      <th>5717</th>\n",
       "      <td>295</td>\n",
       "      <td>HARRIETTE</td>\n",
       "      <td>AVE</td>\n",
       "      <td></td>\n",
       "      <td>295 HARRIETTE AVE &amp; VINCENT S</td>\n",
       "      <td>6/22/2016 11:34</td>\n",
       "      <td>12576980</td>\n",
       "      <td>DP2</td>\n",
       "      <td>-76.129944</td>\n",
       "      <td>43.021456</td>\n",
       "    </tr>\n",
       "    <tr>\n",
       "      <th>2727</th>\n",
       "      <td>362</td>\n",
       "      <td>HUDSON</td>\n",
       "      <td>ST</td>\n",
       "      <td></td>\n",
       "      <td>362-64 HUDSON ST</td>\n",
       "      <td>5/9/2016 9:00</td>\n",
       "      <td>12573162</td>\n",
       "      <td>DP2</td>\n",
       "      <td>-76.160447</td>\n",
       "      <td>43.029972</td>\n",
       "    </tr>\n",
       "    <tr>\n",
       "      <th>1389</th>\n",
       "      <td>149</td>\n",
       "      <td>SEYMOUR</td>\n",
       "      <td>ST</td>\n",
       "      <td></td>\n",
       "      <td>149 SEYMOUR ST REAR TO WEST A</td>\n",
       "      <td>4/22/2016 11:01</td>\n",
       "      <td>13002343</td>\n",
       "      <td>DP1</td>\n",
       "      <td>-76.156834</td>\n",
       "      <td>43.041948</td>\n",
       "    </tr>\n",
       "    <tr>\n",
       "      <th>4196</th>\n",
       "      <td>202</td>\n",
       "      <td>HUNT</td>\n",
       "      <td>AVE</td>\n",
       "      <td></td>\n",
       "      <td>202 HUNT AVE</td>\n",
       "      <td>5/23/2016 14:04</td>\n",
       "      <td>12572132</td>\n",
       "      <td>DP1</td>\n",
       "      <td>-76.155604</td>\n",
       "      <td>43.022715</td>\n",
       "    </tr>\n",
       "    <tr>\n",
       "      <th>2648</th>\n",
       "      <td>253</td>\n",
       "      <td>GREENWOOD</td>\n",
       "      <td>PL</td>\n",
       "      <td></td>\n",
       "      <td>253 GREENWOOD PL &amp; JUDSON ST</td>\n",
       "      <td>5/6/2016 13:46</td>\n",
       "      <td>12577633</td>\n",
       "      <td>DP2</td>\n",
       "      <td>-76.122160</td>\n",
       "      <td>43.040703</td>\n",
       "    </tr>\n",
       "  </tbody>\n",
       "</table>\n",
       "</div>"
      ],
      "text/plain": [
       "     StreetNumber  StreetName StreetNamePostType Directional  \\\n",
       "5717          295  HARRIETTE                 AVE               \n",
       "2727          362     HUDSON                  ST               \n",
       "1389          149    SEYMOUR                  ST               \n",
       "4196          202       HUNT                 AVE               \n",
       "2648          253  GREENWOOD                  PL               \n",
       "\n",
       "                        strLocation           dtTime  STREET_ID VehicleName  \\\n",
       "5717  295 HARRIETTE AVE & VINCENT S  6/22/2016 11:34   12576980         DP2   \n",
       "2727               362-64 HUDSON ST    5/9/2016 9:00   12573162         DP2   \n",
       "1389  149 SEYMOUR ST REAR TO WEST A  4/22/2016 11:01   13002343         DP1   \n",
       "4196                   202 HUNT AVE  5/23/2016 14:04   12572132         DP1   \n",
       "2648   253 GREENWOOD PL & JUDSON ST   5/6/2016 13:46   12577633         DP2   \n",
       "\n",
       "       Latitude  Longitude  \n",
       "5717 -76.129944  43.021456  \n",
       "2727 -76.160447  43.029972  \n",
       "1389 -76.156834  43.041948  \n",
       "4196 -76.155604  43.022715  \n",
       "2648 -76.122160  43.040703  "
      ]
     },
     "metadata": {},
     "output_type": "display_data"
    },
    {
     "name": "stdout",
     "output_type": "stream",
     "text": [
      "BEFORE\n"
     ]
    },
    {
     "data": {
      "text/html": [
       "<div style=\"width:100%;\"><div style=\"position:relative;width:100%;height:0;padding-bottom:60%;\"><iframe src=\"data:text/html;charset=utf-8;base64,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\" style=\"position:absolute;width:100%;height:100%;left:0;top:0;border:none !important;\" allowfullscreen webkitallowfullscreen mozallowfullscreen></iframe></div></div>"
      ],
      "text/plain": [
       "<folium.folium.Map at 0x27a8189ac50>"
      ]
     },
     "metadata": {},
     "output_type": "display_data"
    },
    {
     "name": "stdout",
     "output_type": "stream",
     "text": [
      "AFTER\n"
     ]
    }
   ],
   "source": [
    "import folium\n",
    "import pandas as pd\n",
    "from IPython.display import display\n",
    "SYR = (43.0481, -76.1474)\n",
    "potholes = 'https://cityofsyracuse.github.io/RoadsChallenge/data/potholes.csv'\n",
    "map = folium.Map(location=SYR, zoom_start =14)\n",
    "data = pd.read_csv(potholes)\n",
    "display(data.sample(5))\n",
    "for hole in data.sample(10).to_records():\n",
    "    marker = folium.Circle(location=(hole['Longitude'],hole['Latitude']), popup=hole['strLocation'], radius=15)    \n",
    "    map.add_child(marker)\n",
    "print(\"BEFORE\")\n",
    "display(map)\n",
    "print(\"AFTER\")"
   ]
  },
  {
   "cell_type": "code",
   "execution_count": null,
   "metadata": {},
   "outputs": [],
   "source": []
  }
 ],
 "metadata": {
  "anaconda-cloud": {},
  "kernelspec": {
   "display_name": "Python 3",
   "language": "python",
   "name": "python3"
  },
  "language_info": {
   "codemirror_mode": {
    "name": "ipython",
    "version": 3
   },
   "file_extension": ".py",
   "mimetype": "text/x-python",
   "name": "python",
   "nbconvert_exporter": "python",
   "pygments_lexer": "ipython3",
   "version": "3.6.6"
  }
 },
 "nbformat": 4,
 "nbformat_minor": 1
}
