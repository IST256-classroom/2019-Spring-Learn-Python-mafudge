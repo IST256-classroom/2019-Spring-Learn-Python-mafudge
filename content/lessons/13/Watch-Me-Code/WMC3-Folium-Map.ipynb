{
 "cells": [
  {
   "cell_type": "markdown",
   "metadata": {},
   "source": [
    "# Watch Me Code 3: Mapping with Folium\n",
    "\n",
    "Folium is a Python wrapper library for the OpenStreetMaps api. It allows you to place data on a map in a variety of ways.\n"
   ]
  },
  {
   "cell_type": "code",
   "execution_count": null,
   "metadata": {},
   "outputs": [],
   "source": [
    "! pip install folium"
   ]
  },
  {
   "cell_type": "code",
   "execution_count": null,
   "metadata": {},
   "outputs": [],
   "source": [
    "import folium\n",
    "import pandas as pd\n",
    "import random "
   ]
  },
  {
   "cell_type": "code",
   "execution_count": null,
   "metadata": {
    "scrolled": true
   },
   "outputs": [],
   "source": [
    "# we need to center the map in the middle of the US. I googled for the location.\n",
    "CENTER_US = (39.8333333,-98.585522)\n",
    "london = (51.5074, -0.1278)\n",
    "map = folium.Map(location=CENTER_US, zoom_start=4)\n",
    "map"
   ]
  },
  {
   "cell_type": "markdown",
   "metadata": {},
   "source": [
    "## Map Pins"
   ]
  },
  {
   "cell_type": "code",
   "execution_count": null,
   "metadata": {},
   "outputs": [],
   "source": [
    "# read in a data file of IP address to locations.\n",
    "data = pd.read_csv('https://raw.githubusercontent.com/mafudge/datasets/master/clickstream/ip_lookup.csv')\n",
    "data.sample(5)"
   ]
  },
  {
   "cell_type": "code",
   "execution_count": null,
   "metadata": {
    "scrolled": true
   },
   "outputs": [],
   "source": [
    "# Let's place each location on the map\n",
    "for row in data.to_records():\n",
    "    pos = (row['ApproxLat'],row['ApproxLng'])\n",
    "    marker = folium.Marker(location=pos, \n",
    "                    popup=\"%s, %s\" % (row['City'],row['State'])\n",
    "                          )\n",
    "    map.add_child(marker)\n",
    "map"
   ]
  },
  {
   "cell_type": "code",
   "execution_count": null,
   "metadata": {
    "scrolled": false
   },
   "outputs": [],
   "source": [
    "# Same thing with a different icon and colors. Icons come from http://fontawesome.io/icons/ but its an older version.\n",
    "colors = ['red', 'blue', 'green', 'purple', 'orange', 'darkred',\n",
    "            'lightred', 'beige', 'darkblue', 'darkgreen', 'cadetblue',\n",
    "            'darkpurple', 'pink', 'lightblue', 'lightgreen',\n",
    "            'gray', 'black', 'lightgray']\n",
    "for row in data.to_records():\n",
    "    pos = (row['ApproxLat'],row['ApproxLng'])\n",
    "    marker = folium.Marker(location=pos, \n",
    "                    popup=\"%s, %s\" % (row['City'],row['State']),\n",
    "                    icon = folium.Icon(color = random.choice(colors), icon='user')\n",
    "                          )\n",
    "    map.add_child(marker)\n",
    "map"
   ]
  },
  {
   "cell_type": "code",
   "execution_count": null,
   "metadata": {},
   "outputs": [],
   "source": [
    "# There are other map tiles available. See https://folium.readthedocs.io/en/latest/quickstart.html\n",
    "# Instead of Markers we use circles colors are HTML color codes http://htmlcolorcodes.com/\n",
    "# https://deparkes.co.uk/2016/06/10/folium-map-tiles/\n",
    "CENTER_US = (39.8333333,-98.585522)\n",
    "map2 = folium.Map(location=CENTER_US, zoom_start=4, tiles='stamenterrain')\n",
    "for row in data.to_records():\n",
    "    map2.add_child(folium.CircleMarker(location=(row['ApproxLat'],row['ApproxLng']), \n",
    "                    popup=row['City'], radius=10, color='#0000FF',  fill_color='#FF3333'))\n",
    "    \n",
    "map2"
   ]
  },
  {
   "cell_type": "markdown",
   "metadata": {},
   "source": [
    "# Choropleths\n",
    "\n",
    "Choropleths are cartographic overlays based on boundries defined in a geo JSON file.\n"
   ]
  },
  {
   "cell_type": "code",
   "execution_count": null,
   "metadata": {},
   "outputs": [],
   "source": [
    "# State level geo-json overlay choropleth\n",
    "CENTER_US = (39.8333333,-98.585522)\n",
    "state_geojson = 'WMC3-us-states.json'\n",
    "map3 = folium.Map(location=CENTER_US, zoom_start=4, tiles='stamentoner')\n",
    "map3.choropleth(geo_data=state_geojson)\n",
    "map3\n"
   ]
  },
  {
   "cell_type": "code",
   "execution_count": null,
   "metadata": {},
   "outputs": [],
   "source": [
    "states = pd.read_csv('https://raw.githubusercontent.com/jasonong/List-of-US-States/master/states.csv')\n",
    "state_counts = pd.DataFrame( {'Counts' : data['State']. value_counts() } ).sort_index()\n",
    "state_counts['StateCode'] = state_counts.index\n",
    "state_data = states.merge(state_counts, how=\"left\", left_on='Abbreviation', right_on='StateCode')\n",
    "state_data = state_data[['Abbreviation','Counts']]\n",
    "state_data = state_data.fillna(0)\n",
    "state_data\n"
   ]
  },
  {
   "cell_type": "code",
   "execution_count": null,
   "metadata": {
    "scrolled": false
   },
   "outputs": [],
   "source": [
    "CENTER_US = (39.8333333,-98.585522)\n",
    "state_geojson = 'WMC3-us-states.json'\n",
    "map3 = folium.Map(location=CENTER_US, zoom_start=4, tiles='stamentoner')\n",
    "map3.choropleth(geo_data=state_geojson,data=state_data, columns=['Abbreviation','Counts'], \n",
    "                key_on ='feature.id', fill_color='BuGn', legend_name='Website Visitors')\n",
    "map3"
   ]
  },
  {
   "cell_type": "code",
   "execution_count": null,
   "metadata": {},
   "outputs": [],
   "source": [
    "# Here's a more straigtforward example with unemployment data:\n",
    "unemployment = pd.read_csv('https://raw.githubusercontent.com/wrobstory/vincent/master/examples/data/US_Unemployment_Oct2012.csv')\n",
    "state_geojson = 'WMC3-us-states.json'\n",
    "map4 = folium.Map(location=CENTER_US, zoom_start=4, tiles=' Open Street Map')\n",
    "map4.choropleth(geo_data=state_geojson,data=unemployment, \n",
    "                columns=['State','Unemployment'], key_on ='feature.id', fill_color='YlOrRd', legend_name='2012 US Unemployment')\n",
    "map4\n"
   ]
  },
  {
   "cell_type": "code",
   "execution_count": null,
   "metadata": {},
   "outputs": [],
   "source": []
  }
 ],
 "metadata": {
  "anaconda-cloud": {},
  "kernelspec": {
   "display_name": "Python 3",
   "language": "python",
   "name": "python3"
  },
  "language_info": {
   "codemirror_mode": {
    "name": "ipython",
    "version": 3
   },
   "file_extension": ".py",
   "mimetype": "text/x-python",
   "name": "python",
   "nbconvert_exporter": "python",
   "pygments_lexer": "ipython3",
   "version": "3.6.6"
  }
 },
 "nbformat": 4,
 "nbformat_minor": 1
}
