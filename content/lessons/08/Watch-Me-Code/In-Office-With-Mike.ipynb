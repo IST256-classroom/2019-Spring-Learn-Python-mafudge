{
 "cells": [
  {
   "cell_type": "code",
   "execution_count": 8,
   "metadata": {},
   "outputs": [
    {
     "name": "stdout",
     "output_type": "stream",
     "text": [
      "3\n"
     ]
    }
   ],
   "source": [
    "def f(x,y):\n",
    "    '''\n",
    "    x should be a number\n",
    "    y should be a number\n",
    "    function returns values x plus y\n",
    "    '''\n",
    "    z = x+y\n",
    "    return z\n",
    "\n",
    "z = f(1,2)\n",
    "print(z)"
   ]
  },
  {
   "cell_type": "code",
   "execution_count": 9,
   "metadata": {},
   "outputs": [
    {
     "name": "stdout",
     "output_type": "stream",
     "text": [
      "XXXXX\n"
     ]
    }
   ],
   "source": [
    "def get_password(length):\n",
    "    password =  \"X\" * length\n",
    "    return password\n",
    "\n",
    "\n",
    "password =get_password(5)\n",
    "print(password)\n",
    "    "
   ]
  },
  {
   "cell_type": "code",
   "execution_count": 10,
   "metadata": {},
   "outputs": [],
   "source": [
    "import math"
   ]
  },
  {
   "cell_type": "code",
   "execution_count": 17,
   "metadata": {},
   "outputs": [
    {
     "name": "stdout",
     "output_type": "stream",
     "text": [
      "hello?"
     ]
    }
   ],
   "source": [
    "math.pow(2,8)\n",
    "print(\"hello\", end=\"?\")\n"
   ]
  },
  {
   "cell_type": "code",
   "execution_count": 22,
   "metadata": {},
   "outputs": [
    {
     "name": "stdout",
     "output_type": "stream",
     "text": [
      "a\n",
      "b\n",
      "c\n"
     ]
    }
   ],
   "source": [
    "for one in[ 'a','b','c']:\n",
    "    print(one)\n",
    "\n",
    "    "
   ]
  },
  {
   "cell_type": "code",
   "execution_count": 39,
   "metadata": {},
   "outputs": [
    {
     "name": "stdout",
     "output_type": "stream",
     "text": [
      "enter shopping item or quit: quit\n",
      "milk\n",
      "oranges\n",
      "bread\n",
      "beer\n",
      "\n"
     ]
    }
   ],
   "source": [
    "def append_to_shopping_list(item):\n",
    "    with open('shoppinglist.txt','a') as shopping_file:\n",
    "        shopping_file.write(item + \"\\n\")\n",
    "    return \n",
    "\n",
    "while True:\n",
    "    item = input(\"enter shopping item or quit: \") \n",
    "    if item=='quit':\n",
    "        break\n",
    "    append_to_shopping_list(item)\n",
    "       \n",
    "with open('shoppinglist.txt','r') as shopping_list:\n",
    "    print(shopping_list.read())\n",
    "    \n"
   ]
  },
  {
   "cell_type": "code",
   "execution_count": 41,
   "metadata": {},
   "outputs": [
    {
     "name": "stdout",
     "output_type": "stream",
     "text": [
      "13\n"
     ]
    }
   ],
   "source": [
    "x = 10\n",
    "print(x + z)\n"
   ]
  },
  {
   "cell_type": "code",
   "execution_count": null,
   "metadata": {},
   "outputs": [],
   "source": []
  }
 ],
 "metadata": {
  "kernelspec": {
   "display_name": "Python 3",
   "language": "python",
   "name": "python3"
  },
  "language_info": {
   "codemirror_mode": {
    "name": "ipython",
    "version": 3
   },
   "file_extension": ".py",
   "mimetype": "text/x-python",
   "name": "python",
   "nbconvert_exporter": "python",
   "pygments_lexer": "ipython3",
   "version": "3.6.6"
  }
 },
 "nbformat": 4,
 "nbformat_minor": 2
}
