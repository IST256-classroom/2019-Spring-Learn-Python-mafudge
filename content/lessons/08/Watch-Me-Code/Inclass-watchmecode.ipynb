{
 "cells": [
  {
   "cell_type": "code",
   "execution_count": 13,
   "metadata": {},
   "outputs": [
    {
     "name": "stdout",
     "output_type": "stream",
     "text": [
      "Enter something to append to the file! Three\n"
     ]
    }
   ],
   "source": [
    "with open('demo.txt','a') as f:\n",
    "    text = input(\"Enter something to append to the file! \")\n",
    "    f.write(text + \"\\n\")"
   ]
  },
  {
   "cell_type": "code",
   "execution_count": 10,
   "metadata": {},
   "outputs": [
    {
     "name": "stdout",
     "output_type": "stream",
     "text": [
      "\n",
      "x\n",
      "x\n"
     ]
    }
   ],
   "source": [
    "print(\"\\nx\\nx\")"
   ]
  },
  {
   "cell_type": "code",
   "execution_count": null,
   "metadata": {},
   "outputs": [],
   "source": [
    "# Persistent Counter\n",
    "1. read the current counter from the file\n",
    "2. increment the count\n",
    "3. write the counter back to the file\n"
   ]
  },
  {
   "cell_type": "code",
   "execution_count": 28,
   "metadata": {},
   "outputs": [
    {
     "name": "stdout",
     "output_type": "stream",
     "text": [
      "Current Counter is 5 \n"
     ]
    }
   ],
   "source": [
    "def read_counter():\n",
    "    with open('counter','r') as counterfile:\n",
    "        counter = int(counterfile.read())\n",
    "        return counter\n",
    "    \n",
    "def save_counter(counter):\n",
    "    with open('counter','w') as counterfile:\n",
    "        counterfile.write(\"%d\" % counter)\n",
    "        return\n",
    "    \n",
    "    \n",
    "# code\n",
    "counter = read_counter()\n",
    "print(\"Current Counter is %d \" % counter)\n",
    "counter = counter + 1\n",
    "save_counter(counter)\n"
   ]
  },
  {
   "cell_type": "code",
   "execution_count": null,
   "metadata": {},
   "outputs": [],
   "source": [
    "# read from the file a line at a time\n",
    "# for each line in the file \n",
    "#   add up grade into a total variable\n",
    "# total / number of grade read"
   ]
  },
  {
   "cell_type": "code",
   "execution_count": 36,
   "metadata": {},
   "outputs": [
    {
     "name": "stdout",
     "output_type": "stream",
     "text": [
      "Enter Student name: mike\n",
      "The 1 grade is 90\n",
      " and total is 90.000000\n",
      "The 2 grade is 80\n",
      " and total is 170.000000\n",
      "The 3 grade is 100\n",
      " and total is 270.000000\n",
      "The 4 grade is 30\n",
      " and total is 300.000000\n",
      "The 5 grade is 56\n",
      " and total is 356.000000\n",
      "The 6 grade is 45.3\n",
      " and total is 401.300000\n",
      "The 7 grade is 0.5\n",
      " and total is 401.800000\n",
      "The 8 grade is 10.2\n",
      " and total is 412.000000\n",
      "The 9 grade is 100\n",
      " and total is 512.000000\n",
      "The 10 grade is 8 and total is 520.000000\n",
      " mike's average is 52.00\n"
     ]
    }
   ],
   "source": [
    "student_name = input(\"Enter Student name: \")\n",
    "file_name = student_name + \".txt\"\n",
    "count = 0\n",
    "total = 0\n",
    "with open(file_name, 'r') as f:\n",
    "    for line in f.readlines():\n",
    "        count = count + 1\n",
    "        total = total + float(line)\n",
    "        print(\"The %d grade is %s and total is %f\" % (count, line, total))\n",
    "    print(\" %s's average is %.2f\" %( student_name, total/count))"
   ]
  },
  {
   "cell_type": "code",
   "execution_count": null,
   "metadata": {},
   "outputs": [],
   "source": []
  }
 ],
 "metadata": {
  "kernelspec": {
   "display_name": "Python 3",
   "language": "python",
   "name": "python3"
  },
  "language_info": {
   "codemirror_mode": {
    "name": "ipython",
    "version": 3
   },
   "file_extension": ".py",
   "mimetype": "text/x-python",
   "name": "python",
   "nbconvert_exporter": "python",
   "pygments_lexer": "ipython3",
   "version": "3.6.6"
  }
 },
 "nbformat": 4,
 "nbformat_minor": 2
}
