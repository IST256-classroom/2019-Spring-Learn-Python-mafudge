{
 "cells": [
  {
   "cell_type": "markdown",
   "metadata": {},
   "source": [
    "Python story generator:\n",
    "\n",
    "There was an old woman who lived in a [place] . She had so many [plural noun] she didn't know what to do, so she [online activity, past tense] them on [website].\n",
    "\n"
   ]
  },
  {
   "cell_type": "code",
   "execution_count": 11,
   "metadata": {},
   "outputs": [
    {
     "name": "stdout",
     "output_type": "stream",
     "text": [
      "Let's make a story!\n",
      "Enter some place where you could live rochester\n",
      "Enter a plural noun goldfish\n",
      "Enter an online activity, in past tense tweeted\n",
      "Enter a website anything but twitter\n",
      "There was an old woman who lived in a rochester\n",
      "She had so many goldfish she didn't know what to do.\n",
      "so she tweeted them on anything but twitter\n"
     ]
    }
   ],
   "source": [
    "print(\"Let's make a story!\")\n",
    "place = input(\"Enter some place where you could live \")\n",
    "plural_noun = input(\"Enter a plural noun \")\n",
    "online_activity = input(\"Enter an online activity, in past tense \")\n",
    "website = input(\"Enter a website \")\n",
    "print(\"There was an old woman who lived in a\", place)\n",
    "print(\"She had so many\", plural_noun, \"she didn't know what to do.\")\n",
    "print(\"so she\", online_activity, \"them on\", website )\n"
   ]
  },
  {
   "cell_type": "code",
   "execution_count": 2,
   "metadata": {},
   "outputs": [
    {
     "name": "stdout",
     "output_type": "stream",
     "text": [
      "There was an old woman who lived a in shoe. She had so many children she didn't know what to do, so she sold them on the black market.\n"
     ]
    }
   ],
   "source": [
    "print(\"There was an old woman who lived a in shoe. She had so many children she didn't know what to do, so she sold them on the black market.\")"
   ]
  },
  {
   "cell_type": "code",
   "execution_count": null,
   "metadata": {},
   "outputs": [],
   "source": []
  }
 ],
 "metadata": {
  "kernelspec": {
   "display_name": "Python 3",
   "language": "python",
   "name": "python3"
  },
  "language_info": {
   "codemirror_mode": {
    "name": "ipython",
    "version": 3
   },
   "file_extension": ".py",
   "mimetype": "text/x-python",
   "name": "python",
   "nbconvert_exporter": "python",
   "pygments_lexer": "ipython3",
   "version": "3.6.6"
  }
 },
 "nbformat": 4,
 "nbformat_minor": 2
}
