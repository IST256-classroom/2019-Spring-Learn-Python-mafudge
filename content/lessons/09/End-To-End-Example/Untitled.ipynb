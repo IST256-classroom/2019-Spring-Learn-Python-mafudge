{
 "cells": [
  {
   "cell_type": "markdown",
   "metadata": {},
   "source": [
    "# End-To-End Example: Bad Password Checker\n",
    "\n",
    "1. Read in list of bad passwords from file `bad-passwords.txt`\n",
    "2. Main program loop which:\n",
    "  3. inputs a password \n",
    "  4. checks whether the password  is \"good\" or \"bad\" by checking against the list\n",
    "  5. repeats this until you enter no password.\n",
    "  \n",
    "\n",
    "\n",
    "1. open file for reading\n",
    "2. make empty list\n",
    "3. for each password in the file:\n",
    "4.   append the password to the list\n",
    "  \n",
    " "
   ]
  },
  {
   "cell_type": "code",
   "execution_count": 1,
   "metadata": {},
   "outputs": [],
   "source": [
    "def read_password_file(filename):\n",
    "    with open (filename,'r') as f:\n",
    "        passwords = []\n",
    "        for line in f.readlines():\n",
    "            password = line.strip()\n",
    "            passwords.append(password)\n",
    "            \n",
    "    return passwords\n",
    "\n",
    "def password_on_list(password, passwordlist):\n",
    "    if password in passwordlist:\n",
    "        return True\n",
    "    else:\n",
    "        return False    \n",
    "    "
   ]
  },
  {
   "cell_type": "code",
   "execution_count": 2,
   "metadata": {},
   "outputs": [
    {
     "name": "stdout",
     "output_type": "stream",
     "text": [
      "Enter a password to check or press ENTER to quit: safdkjhkfsd\n",
      "That password is NOT on the list\n",
      "Enter a password to check or press ENTER to quit: \n"
     ]
    }
   ],
   "source": [
    "passwords = read_password_file('ETEE-bad-passwords.txt')\n",
    "while True:\n",
    "    your_password = input(\"Enter a password to check or press ENTER to quit: \")\n",
    "    if your_password == \"\":\n",
    "        break\n",
    "    if password_on_list(your_password, passwords):\n",
    "        print(\"That password is on the list\")\n",
    "    else:\n",
    "        print(\"That password is NOT on the list\")"
   ]
  },
  {
   "cell_type": "code",
   "execution_count": 23,
   "metadata": {},
   "outputs": [
    {
     "data": {
      "text/plain": [
       "False"
      ]
     },
     "execution_count": 23,
     "metadata": {},
     "output_type": "execute_result"
    }
   ],
   "source": [
    " \n",
    "def password_on_list(password, passwordlist):\n",
    "    if password in passwordlist:\n",
    "        return True\n",
    "    else:\n",
    "        return False \n",
    "    \n",
    "password_on_list('abc', ['mike', 'deb', 'avi'])\n",
    "password_on_list('deb', ['mike', 'deb', 'avi'])\n",
    "password_on_list('nick', passwords)\n"
   ]
  },
  {
   "cell_type": "code",
   "execution_count": null,
   "metadata": {},
   "outputs": [],
   "source": []
  }
 ],
 "metadata": {
  "kernelspec": {
   "display_name": "Python 3",
   "language": "python",
   "name": "python3"
  },
  "language_info": {
   "codemirror_mode": {
    "name": "ipython",
    "version": 3
   },
   "file_extension": ".py",
   "mimetype": "text/x-python",
   "name": "python",
   "nbconvert_exporter": "python",
   "pygments_lexer": "ipython3",
   "version": "3.6.6"
  }
 },
 "nbformat": 4,
 "nbformat_minor": 2
}
