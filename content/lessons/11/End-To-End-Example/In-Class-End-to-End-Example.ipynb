{
 "cells": [
  {
   "cell_type": "markdown",
   "metadata": {},
   "source": [
    "# End-To-End Example: Today's Weather\n",
    "\n",
    "This example will input a location and then output today's current weather conditions at that location. \n",
    "\n",
    "To complete this example we will use the following API's \n",
    "\n",
    "- OpenStreetMaps Geocode api to get GPS coordinates for a location eg. Syracuse, NY\n",
    "- Darksky.net forecast api to get the currnt weather conditions for those GPS coordinates\n",
    "\n",
    "\n",
    "Algorithm\n",
    "\n",
    "1. input location e.g. Syracuse, NY\n",
    "2. geocode location into lat/long using open street maps\n",
    "3. get weather at lat/long from darksky\n",
    "4. print current temperature and conditions"
   ]
  },
  {
   "cell_type": "code",
   "execution_count": 17,
   "metadata": {},
   "outputs": [],
   "source": [
    "import requests\n",
    "\n",
    "def geocode(location):\n",
    "    params = { 'q' : location, 'format' : 'json'}\n",
    "    url='https://nominatim.openstreetmap.org/search'\n",
    "    response = requests.get(url, params=params)\n",
    "    if response.ok:\n",
    "        geodata = response.json()\n",
    "        lat = geodata[0]['lat']\n",
    "        lon = geodata[0]['lon']\n",
    "        return lat, lon\n",
    "    \n",
    "def getweather(lat,lon):\n",
    "    key = '3428d875996cccbf7b713a175d3fd7a5'\n",
    "    url = 'https://api.darksky.net/forecast/' + key + '/' + lat + ',' + lon\n",
    "    resp = requests.get(url)\n",
    "    if resp.ok:\n",
    "        weatherdata = resp.json()\n",
    "        \n",
    "    summary = weatherdata['currently']['summary']\n",
    "    temp = int(weatherdata['currently']['temperature'])\n",
    "    return summary,temp\n",
    "    \n",
    "    "
   ]
  },
  {
   "cell_type": "code",
   "execution_count": 22,
   "metadata": {},
   "outputs": [
    {
     "name": "stdout",
     "output_type": "stream",
     "text": [
      "Enter your Location: Barrow, AK\n",
      "The current conditions in Barrow, AK are Partly Cloudy and -4 degrees.\n"
     ]
    }
   ],
   "source": [
    "location = input(\"Enter your Location: \")\n",
    "lat, lon = geocode(location)\n",
    "summary, temp = getweather(lat,lon)\n",
    "print(\"The current conditions in %s are %s and %d degrees.\" % (location, summary, temp))\n",
    "\n",
    "\n"
   ]
  },
  {
   "cell_type": "code",
   "execution_count": null,
   "metadata": {},
   "outputs": [],
   "source": []
  }
 ],
 "metadata": {
  "kernelspec": {
   "display_name": "Python 3",
   "language": "python",
   "name": "python3"
  },
  "language_info": {
   "codemirror_mode": {
    "name": "ipython",
    "version": 3
   },
   "file_extension": ".py",
   "mimetype": "text/x-python",
   "name": "python",
   "nbconvert_exporter": "python",
   "pygments_lexer": "ipython3",
   "version": "3.6.6"
  }
 },
 "nbformat": 4,
 "nbformat_minor": 2
}
