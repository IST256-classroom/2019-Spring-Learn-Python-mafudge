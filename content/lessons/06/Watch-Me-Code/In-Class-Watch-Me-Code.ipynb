{
 "cells": [
  {
   "cell_type": "code",
   "execution_count": 13,
   "metadata": {},
   "outputs": [
    {
     "name": "stdout",
     "output_type": "stream",
     "text": [
      "Requirement already satisfied: gTTS in c:\\users\\mafudge\\appdata\\local\\programs\\python\\python36\\lib\\site-packages (2.0.3)\n",
      "Requirement already satisfied: gtts-token in c:\\users\\mafudge\\appdata\\local\\programs\\python\\python36\\lib\\site-packages (from gTTS) (1.1.3)\n",
      "Requirement already satisfied: six in c:\\users\\mafudge\\appdata\\local\\programs\\python\\python36\\lib\\site-packages (from gTTS) (1.11.0)\n",
      "Requirement already satisfied: bs4 in c:\\users\\mafudge\\appdata\\local\\programs\\python\\python36\\lib\\site-packages (from gTTS) (0.0.1)\n",
      "Requirement already satisfied: requests in c:\\users\\mafudge\\appdata\\local\\programs\\python\\python36\\lib\\site-packages (from gTTS) (2.19.1)\n",
      "Requirement already satisfied: click in c:\\users\\mafudge\\appdata\\local\\programs\\python\\python36\\lib\\site-packages (from gTTS) (6.7)\n",
      "Requirement already satisfied: beautifulsoup4 in c:\\users\\mafudge\\appdata\\local\\programs\\python\\python36\\lib\\site-packages (from bs4->gTTS) (4.6.3)\n",
      "Requirement already satisfied: certifi>=2017.4.17 in c:\\users\\mafudge\\appdata\\local\\programs\\python\\python36\\lib\\site-packages (from requests->gTTS) (2018.8.13)\n",
      "Requirement already satisfied: urllib3<1.24,>=1.21.1 in c:\\users\\mafudge\\appdata\\local\\programs\\python\\python36\\lib\\site-packages (from requests->gTTS) (1.23)\n",
      "Requirement already satisfied: idna<2.8,>=2.5 in c:\\users\\mafudge\\appdata\\local\\programs\\python\\python36\\lib\\site-packages (from requests->gTTS) (2.7)\n",
      "Requirement already satisfied: chardet<3.1.0,>=3.0.2 in c:\\users\\mafudge\\appdata\\local\\programs\\python\\python36\\lib\\site-packages (from requests->gTTS) (3.0.4)\n"
     ]
    },
    {
     "name": "stderr",
     "output_type": "stream",
     "text": [
      "You are using pip version 19.0.1, however version 19.0.3 is available.\n",
      "You should consider upgrading via the 'python -m pip install --upgrade pip' command.\n"
     ]
    },
    {
     "name": "stdout",
     "output_type": "stream",
     "text": [
      "Requirement already satisfied: playsound in c:\\users\\mafudge\\appdata\\local\\programs\\python\\python36\\lib\\site-packages (1.2.2)\n"
     ]
    },
    {
     "name": "stderr",
     "output_type": "stream",
     "text": [
      "You are using pip version 19.0.1, however version 19.0.3 is available.\n",
      "You should consider upgrading via the 'python -m pip install --upgrade pip' command.\n"
     ]
    }
   ],
   "source": [
    "! pip install gTTS\n",
    "! pip install playsound"
   ]
  },
  {
   "cell_type": "code",
   "execution_count": 47,
   "metadata": {},
   "outputs": [],
   "source": [
    "from gtts import gTTS\n",
    "from playsound import playsound\n",
    "import os.path\n",
    "import time \n",
    "\n",
    "def speak(message, print_out=False, say_it_slowly=False):\n",
    "    '''\n",
    "    This will use google text speech to say your message aloud.\n",
    "    '''\n",
    "    file = message + '.mp3'\n",
    "    if not os.path.isfile(file):\n",
    "        x = gTTS(message, lang='en', slow=say_it_slowly)\n",
    "        x.save(file)\n",
    "        \n",
    "    playsound(file)\n",
    "    if print_out: \n",
    "        print(message)\n",
    "        \n",
    "        "
   ]
  },
  {
   "cell_type": "code",
   "execution_count": 46,
   "metadata": {},
   "outputs": [
    {
     "name": "stdout",
     "output_type": "stream",
     "text": [
      "nothing\n"
     ]
    }
   ],
   "source": [
    "file = 'nothing'\n",
    "speak('welcome to functions')\n",
    "print(file)\n"
   ]
  },
  {
   "cell_type": "code",
   "execution_count": 40,
   "metadata": {},
   "outputs": [
    {
     "name": "stdout",
     "output_type": "stream",
     "text": [
      "Hi Mom!\n"
     ]
    }
   ],
   "source": [
    "speak('This is a test')\n",
    "time.sleep(1)\n",
    "speak('Hi Mom!', print_out=True)"
   ]
  },
  {
   "cell_type": "markdown",
   "metadata": {},
   "source": [
    "academic standing is based on your GPA\n",
    "outputs: \n",
    "3.8 or better ==> Dean's List\n",
    "2.0 or worse ==> Academic Warning\n",
    "else ==> Good Standing\n",
    "\n"
   ]
  },
  {
   "cell_type": "code",
   "execution_count": 58,
   "metadata": {},
   "outputs": [
    {
     "name": "stdout",
     "output_type": "stream",
     "text": [
      "Gpa is 4.0 your academic standing is EXPECT: deans list, ACTUAL: Dean's list\n",
      "Gpa is 1.2 your academic standing is EXPECT: academic warnin, ACTUAL: Academic Warning\n",
      "Gpa is 3.1 your academic standing is EXPECT: good standing, ACTUAL: Good Standing\n"
     ]
    }
   ],
   "source": [
    "def academic_standing(gpa):\n",
    "    if gpa >= 3.8:\n",
    "        standing = \"Dean's list\"\n",
    "    elif gpa <= 2.0:\n",
    "        standing = \"Academic Warning\"\n",
    "    else:\n",
    "        standing = \"Good Standing\"\n",
    "    return standing\n",
    "\n",
    "print(\"Gpa is 4.0 your academic standing is EXPECT: deans list, ACTUAL:\"\n",
    "      , academic_standing(4.0))\n",
    "\n",
    "print(\"Gpa is 1.2 your academic standing is EXPECT: academic warnin, ACTUAL:\"\n",
    "      , academic_standing(1.2))\n",
    "\n",
    "print(\"Gpa is 3.1 your academic standing is EXPECT: good standing, ACTUAL:\"\n",
    "      , academic_standing(3.1))\n"
   ]
  },
  {
   "cell_type": "markdown",
   "metadata": {},
   "source": [
    "loop:\n",
    "  ask for name or quit\n",
    "  if quit stop looping\n",
    "  ask for gpa\n",
    "  speak name and academic standing\n",
    "  "
   ]
  },
  {
   "cell_type": "code",
   "execution_count": 59,
   "metadata": {},
   "outputs": [
    {
     "name": "stdout",
     "output_type": "stream",
     "text": [
      "Enter student name or type quit: Sal Debote\n",
      "Enter student GPA: 0.9\n",
      "Sal Debote has a gpa of 0.90 and is on Academic Warning\n",
      "Enter student name or type quit: quit\n"
     ]
    }
   ],
   "source": [
    "while True:\n",
    "    name = input(\"Enter student name or type quit: \")\n",
    "    if name == 'quit':\n",
    "        break\n",
    "    gpa = float(input(\"Enter student GPA: \"))\n",
    "    standing = academic_standing(gpa)\n",
    "    message =\"%s has a gpa of %.2f and is on %s\" % (name,gpa,standing)\n",
    "    speak(message, print_out=True)"
   ]
  },
  {
   "cell_type": "code",
   "execution_count": null,
   "metadata": {},
   "outputs": [],
   "source": []
  }
 ],
 "metadata": {
  "kernelspec": {
   "display_name": "Python 3",
   "language": "python",
   "name": "python3"
  },
  "language_info": {
   "codemirror_mode": {
    "name": "ipython",
    "version": 3
   },
   "file_extension": ".py",
   "mimetype": "text/x-python",
   "name": "python",
   "nbconvert_exporter": "python",
   "pygments_lexer": "ipython3",
   "version": "3.6.6"
  }
 },
 "nbformat": 4,
 "nbformat_minor": 2
}
