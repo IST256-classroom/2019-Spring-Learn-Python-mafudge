{
 "cells": [
  {
   "cell_type": "code",
   "execution_count": null,
   "metadata": {},
   "outputs": [],
   "source": [
    "!pip install gTTS --upgrade"
   ]
  },
  {
   "cell_type": "code",
   "execution_count": 1,
   "metadata": {},
   "outputs": [],
   "source": [
    "from gtts import gTTS"
   ]
  },
  {
   "cell_type": "code",
   "execution_count": 7,
   "metadata": {},
   "outputs": [
    {
     "name": "stdout",
     "output_type": "stream",
     "text": [
      "Type something and I will say it! This is a test\n"
     ]
    }
   ],
   "source": [
    "something = input(\"Type something and I will say it! \")\n",
    "tts = gTTS(something)\n",
    "tts.save('something.mp3')\n"
   ]
  },
  {
   "cell_type": "code",
   "execution_count": 5,
   "metadata": {},
   "outputs": [
    {
     "name": "stdout",
     "output_type": "stream",
     "text": [
      "Requirement already up-to-date: playsound in c:\\users\\mafudge\\appdata\\local\\programs\\python\\python36\\lib\\site-packages (1.2.2)\n"
     ]
    },
    {
     "name": "stderr",
     "output_type": "stream",
     "text": [
      "You are using pip version 19.0.1, however version 19.0.3 is available.\n",
      "You should consider upgrading via the 'python -m pip install --upgrade pip' command.\n"
     ]
    }
   ],
   "source": [
    "# How do I play it in python?\n",
    "!pip install playsound --upgrade"
   ]
  },
  {
   "cell_type": "code",
   "execution_count": 8,
   "metadata": {},
   "outputs": [],
   "source": [
    "from playsound import playsound\n",
    "playsound('something.mp3')"
   ]
  },
  {
   "cell_type": "code",
   "execution_count": 28,
   "metadata": {},
   "outputs": [
    {
     "name": "stdout",
     "output_type": "stream",
     "text": [
      "When speak('Hi There') I expect to hear: \n",
      "Hi There\n"
     ]
    }
   ],
   "source": [
    "# how about we write it as our own function?\n",
    "\n",
    "import os\n",
    "from playsound import playsound\n",
    "from gtts import gTTS\n",
    "\n",
    "\n",
    "def speak(text, and_print = False):\n",
    "    file =  text + \".mp3\"\n",
    "    if not os.path.exists(file):\n",
    "        tts = gTTS(text)\n",
    "        tts.save(file)\n",
    "    playsound(file)\n",
    "    if and_print:\n",
    "        print(text)\n",
    "    \n",
    "message = \"Hi There\"\n",
    "print(\"When speak('%s') I expect to hear: \" % message)\n",
    "speak(message, and_print = True)"
   ]
  },
  {
   "cell_type": "code",
   "execution_count": null,
   "metadata": {},
   "outputs": [],
   "source": []
  }
 ],
 "metadata": {
  "kernelspec": {
   "display_name": "Python 3",
   "language": "python",
   "name": "python3"
  },
  "language_info": {
   "codemirror_mode": {
    "name": "ipython",
    "version": 3
   },
   "file_extension": ".py",
   "mimetype": "text/x-python",
   "name": "python",
   "nbconvert_exporter": "python",
   "pygments_lexer": "ipython3",
   "version": "3.6.6"
  }
 },
 "nbformat": 4,
 "nbformat_minor": 2
}
