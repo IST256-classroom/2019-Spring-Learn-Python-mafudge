{
 "cells": [
  {
   "cell_type": "code",
   "execution_count": 10,
   "metadata": {},
   "outputs": [
    {
     "name": "stdout",
     "output_type": "stream",
     "text": [
      "You have 20 seconds to enter as many US States as you can. Go!\n",
      "Elapsed time: 0.0\n",
      "Enter a US state: california\n",
      "Elapsed time: 5.2\n",
      "Enter a US state: washington\n",
      "Elapsed time: 9.4\n",
      "Enter a US state: oregon\n",
      "Elapsed time: 14.5\n",
      "Enter a US state: alabama\n",
      "Elapsed time: 18.0\n",
      "Enter a US state: new york\n",
      "Elapsed time: 22.0\n",
      "You entered  5 names in 22.0 seconds \n"
     ]
    }
   ],
   "source": [
    "from timeit import default_timer as timer\n",
    "\n",
    "seconds = 20\n",
    "print(\"You have %d seconds to enter as many US States as you can. Go!\" % seconds)\n",
    "\n",
    "start = timer()\n",
    "count = 0\n",
    "while True:\n",
    "    now = timer()\n",
    "    elapsed = now-start\n",
    "    print(\"Elapsed time: %.1f\" % elapsed)\n",
    "    if elapsed > seconds: break\n",
    "    state = input(\"Enter a US state: \")\n",
    "    count +=1    \n",
    "    \n",
    "print(\"You entered  %d US States in %.1f seconds \" % (count, elapsed) )"
   ]
  }
 ],
 "metadata": {
  "kernelspec": {
   "display_name": "Python 3",
   "language": "python",
   "name": "python3"
  },
  "language_info": {
   "codemirror_mode": {
    "name": "ipython",
    "version": 3
   },
   "file_extension": ".py",
   "mimetype": "text/x-python",
   "name": "python",
   "nbconvert_exporter": "python",
   "pygments_lexer": "ipython3",
   "version": "3.6.6"
  }
 },
 "nbformat": 4,
 "nbformat_minor": 2
}
