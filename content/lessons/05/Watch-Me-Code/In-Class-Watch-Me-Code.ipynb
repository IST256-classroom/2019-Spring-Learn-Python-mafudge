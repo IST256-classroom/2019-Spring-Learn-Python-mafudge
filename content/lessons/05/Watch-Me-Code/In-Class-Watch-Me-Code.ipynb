{
 "cells": [
  {
   "cell_type": "code",
   "execution_count": 2,
   "metadata": {
    "scrolled": true
   },
   "outputs": [
    {
     "name": "stdout",
     "output_type": "stream",
     "text": [
      "1 misssissippi\n",
      "2 misssissippi\n",
      "3 misssissippi\n",
      "4 misssissippi\n",
      "5 misssissippi\n",
      "6 misssissippi\n",
      "7 misssissippi\n",
      "8 misssissippi\n",
      "9 misssissippi\n",
      "10 misssissippi\n"
     ]
    }
   ],
   "source": [
    "times = 10\n",
    "name = \"misssissippi\"\n",
    "current = 1\n",
    "while (current <= times):\n",
    "    print(current, name)\n",
    "    current = current + 1"
   ]
  },
  {
   "cell_type": "code",
   "execution_count": 11,
   "metadata": {},
   "outputs": [
    {
     "name": "stdout",
     "output_type": "stream",
     "text": [
      "1 mississippi\n",
      "2 mississippi\n",
      "3 mississippi\n",
      "4 mississippi\n",
      "5 mississippi\n",
      "6 mississippi\n",
      "7 mississippi\n",
      "8 mississippi\n",
      "9 mississippi\n",
      "10 mississippi\n"
     ]
    }
   ],
   "source": [
    "times = 10\n",
    "name= \"mississippi\"\n",
    "for current in range(1,times+1):\n",
    "    print(current,name)"
   ]
  },
  {
   "cell_type": "code",
   "execution_count": 12,
   "metadata": {},
   "outputs": [
    {
     "name": "stdout",
     "output_type": "stream",
     "text": [
      "m\n",
      "i\n",
      "c\n",
      "h\n",
      "a\n",
      "e\n",
      "l\n"
     ]
    }
   ],
   "source": [
    "name= \"michael\"\n",
    "for ch in name:\n",
    "    print(ch)"
   ]
  },
  {
   "cell_type": "code",
   "execution_count": 13,
   "metadata": {},
   "outputs": [
    {
     "name": "stdout",
     "output_type": "stream",
     "text": [
      "apple\n",
      "banana\n",
      "cherry\n",
      "dried apricot\n"
     ]
    }
   ],
   "source": [
    "fruits = [ 'apple', 'banana', 'cherry', 'dried apricot']\n",
    "for fruit in fruits:\n",
    "    print(fruit)\n"
   ]
  },
  {
   "cell_type": "code",
   "execution_count": 15,
   "metadata": {},
   "outputs": [
    {
     "name": "stdout",
     "output_type": "stream",
     "text": [
      "Enter your name: ellen\n",
      "There are 2 e's in your name ellen\n"
     ]
    }
   ],
   "source": [
    "name = input(\"Enter your name: \")\n",
    "ecount = 0\n",
    "for letter in name:\n",
    "    if letter == 'e':\n",
    "        ecount += 1 # same as ecount = ecount + 1\n",
    "\n",
    "print(\"There are %d e's in your name %s\" % (ecount, name))"
   ]
  },
  {
   "cell_type": "code",
   "execution_count": 21,
   "metadata": {},
   "outputs": [
    {
     "name": "stdout",
     "output_type": "stream",
     "text": [
      "enter a US stateNEW YORK\n",
      "There's a space in that state\n"
     ]
    }
   ],
   "source": [
    "state = input(\"enter a US state\").lower()\n",
    "states = ['alabama', 'alaska', 'new york']\n",
    "if state in states:\n",
    "    for letter in state:\n",
    "        if letter == ' ':\n",
    "            print(\"There's a space in that state\")\n",
    "            break\n",
    "    else:\n",
    "        print(\"There is no space in that state\")\n",
    "else:\n",
    "    print(\"that is not a state, jackwagon.\")"
   ]
  },
  {
   "cell_type": "code",
   "execution_count": 28,
   "metadata": {},
   "outputs": [
    {
     "name": "stdout",
     "output_type": "stream",
     "text": [
      "Enter your guess: mike\n",
      "That is not my name\n",
      "You guessed 1 times.\n",
      "Enter your guess: ery\n",
      "That is not my name\n",
      "You guessed 2 times.\n",
      "Enter your guess: steve\n",
      "That is not my name\n",
      "You guessed 3 times.\n",
      "Enter your guess: tony\n",
      "You guessed it!\n"
     ]
    }
   ],
   "source": [
    "guess = \"tony\"\n",
    "guesses = 0\n",
    "while True:\n",
    "    your_guess = input(\"Enter your guess: \")\n",
    "    guesses +=1\n",
    "    if guess != your_guess:\n",
    "        print(\"That is not my name\")\n",
    "    else:\n",
    "        print(\"You guessed it!\")\n",
    "        break \n",
    "    print(\"You guessed\", guesses, \"times.\")"
   ]
  },
  {
   "cell_type": "code",
   "execution_count": null,
   "metadata": {},
   "outputs": [],
   "source": []
  },
  {
   "cell_type": "code",
   "execution_count": null,
   "metadata": {},
   "outputs": [],
   "source": []
  },
  {
   "cell_type": "code",
   "execution_count": null,
   "metadata": {},
   "outputs": [],
   "source": []
  },
  {
   "cell_type": "code",
   "execution_count": null,
   "metadata": {},
   "outputs": [],
   "source": []
  },
  {
   "cell_type": "code",
   "execution_count": null,
   "metadata": {},
   "outputs": [],
   "source": []
  },
  {
   "cell_type": "code",
   "execution_count": null,
   "metadata": {},
   "outputs": [],
   "source": []
  }
 ],
 "metadata": {
  "kernelspec": {
   "display_name": "Python 3",
   "language": "python",
   "name": "python3"
  },
  "language_info": {
   "codemirror_mode": {
    "name": "ipython",
    "version": 3
   },
   "file_extension": ".py",
   "mimetype": "text/x-python",
   "name": "python",
   "nbconvert_exporter": "python",
   "pygments_lexer": "ipython3",
   "version": "3.6.6"
  }
 },
 "nbformat": 4,
 "nbformat_minor": 2
}
