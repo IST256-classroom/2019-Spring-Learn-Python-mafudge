{
 "cells": [
  {
   "cell_type": "markdown",
   "metadata": {},
   "source": [
    "# End-To-End Example: Password Program\n",
    "\n",
    "Password Program:\n",
    "\n",
    "- 5 attempts for the password\n",
    "- On correct password, print: “Access Granted”, then end the program \n",
    "- On incorrect password “Invalid Password Attempt #” and give the user another try\n",
    "- After 5 attempts, print “You are locked out”. Then end the program.\n"
   ]
  },
  {
   "cell_type": "markdown",
   "metadata": {},
   "source": [
    "Input: password\n",
    "\n",
    "Output: \n",
    " access granted when password equal the actual password\n",
    " invalid password attempt # when password does not equal actual password\n",
    " you are locked out when attepts equal to 5\n",
    " \n",
    " password\n",
    " actual_password\n",
    " attempts\n",
    "\n",
    "Process:\n",
    "actual_password = 'rhubarb'\n",
    "loop \n",
    "    input password\n",
    "    if password == actual_password\n",
    "        print access granted\n",
    "        break the loop\n",
    "    else\n",
    "        increment the attempts\n",
    "\n",
    "    if attemps == 5 This should be > 5\n",
    "        print you are locked out\n",
    "        stop looping\n"
   ]
  },
  {
   "cell_type": "code",
   "execution_count": 10,
   "metadata": {},
   "outputs": [
    {
     "name": "stdout",
     "output_type": "stream",
     "text": [
      "Enter Password: jghfkasd\n",
      "Bad Password # 1\n",
      "Enter Password: sadghjfasd\n",
      "Bad Password # 2\n",
      "Enter Password: rhubarb\n",
      "Access granted!!!\n"
     ]
    }
   ],
   "source": [
    "actual_password = 'rhubarb'\n",
    "attempts = 1\n",
    "while True:\n",
    "    password = input(\"Enter Password: \")\n",
    "    if password == actual_password:\n",
    "        print(\"Access granted!!!\")\n",
    "        break\n",
    "    else:\n",
    "        print(\"Bad Password # %d\" % attempts)\n",
    "        attempts = attempts + 1\n",
    "    if attempts > 5:\n",
    "        print(\"You are locked out!\")\n",
    "        break\n",
    "\n"
   ]
  },
  {
   "cell_type": "code",
   "execution_count": null,
   "metadata": {},
   "outputs": [],
   "source": []
  },
  {
   "cell_type": "code",
   "execution_count": null,
   "metadata": {},
   "outputs": [],
   "source": []
  },
  {
   "cell_type": "code",
   "execution_count": null,
   "metadata": {},
   "outputs": [],
   "source": []
  }
 ],
 "metadata": {
  "anaconda-cloud": {},
  "kernelspec": {
   "display_name": "Python 3",
   "language": "python",
   "name": "python3"
  },
  "language_info": {
   "codemirror_mode": {
    "name": "ipython",
    "version": 3
   },
   "file_extension": ".py",
   "mimetype": "text/x-python",
   "name": "python",
   "nbconvert_exporter": "python",
   "pygments_lexer": "ipython3",
   "version": "3.6.6"
  }
 },
 "nbformat": 4,
 "nbformat_minor": 1
}
