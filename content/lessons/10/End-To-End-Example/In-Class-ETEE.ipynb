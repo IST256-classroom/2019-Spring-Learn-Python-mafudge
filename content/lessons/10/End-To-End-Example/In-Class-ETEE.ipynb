{
 "cells": [
  {
   "cell_type": "markdown",
   "metadata": {},
   "source": [
    "# End-To-End Example: European Country Locator\n",
    "\n",
    "In this example, we will load in json data for European countries. We will write a program to prompt to input a country then tell the user which part of Europe the country is located in and what are the neighboring European countries.\n"
   ]
  },
  {
   "cell_type": "code",
   "execution_count": null,
   "metadata": {
    "collapsed": true
   },
   "outputs": [],
   "source": [
    "## todo list\n",
    "# load europe data into Python\n",
    "# loop\n",
    "#   input a country name\n",
    "#   if country name is quit, exit loop\n",
    "#   for each country in europe\n",
    "#        if input name equals country name\n",
    "#              get info on country (region and neighbors)\n",
    "#              print country info"
   ]
  },
  {
   "cell_type": "code",
   "execution_count": null,
   "metadata": {},
   "outputs": [],
   "source": []
  },
  {
   "cell_type": "code",
   "execution_count": null,
   "metadata": {},
   "outputs": [],
   "source": []
  }
 ],
 "metadata": {
  "anaconda-cloud": {},
  "kernelspec": {
   "display_name": "Python 3",
   "language": "python",
   "name": "python3"
  },
  "language_info": {
   "codemirror_mode": {
    "name": "ipython",
    "version": 3
   },
   "file_extension": ".py",
   "mimetype": "text/x-python",
   "name": "python",
   "nbconvert_exporter": "python",
   "pygments_lexer": "ipython3",
   "version": "3.6.6"
  }
 },
 "nbformat": 4,
 "nbformat_minor": 1
}
