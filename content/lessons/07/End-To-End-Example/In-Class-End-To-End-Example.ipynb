{
 "cells": [
  {
   "cell_type": "markdown",
   "metadata": {},
   "source": [
    "# End-To-End Example: Tip Calculator\n",
    "\n",
    "The following code calculates the amount of tip you should leave based on the amount of the check and percentage you would like to tip.\n",
    "\n"
   ]
  },
  {
   "cell_type": "code",
   "execution_count": 6,
   "metadata": {},
   "outputs": [
    {
     "name": "stdout",
     "output_type": "stream",
     "text": [
      "Enter Amount of Check: 40\n",
      "Enter the Tip Percentage: 15\n",
      "You should leave this amount for a tip $600.00\n"
     ]
    }
   ],
   "source": [
    "total = float(input(\"Enter Amount of Check: \"))\n",
    "tip = float(input(\"Enter the Tip Percentage: \"))\n",
    "tip_amount = total * tip\n",
    "print (\"You should leave this amount for a tip $%.2f\" % (tip_amount))"
   ]
  },
  {
   "cell_type": "markdown",
   "metadata": {},
   "source": [
    "## The Issues\n",
    "\n",
    "The issues with this program is that its not smart with the tip percentage. When I enter 15 is assumes 1500% not 15%. \n",
    "\n",
    "With our knowledge of strings and parsing we can make this program more intelligent:\n",
    "\n",
    "- When you enter `0.15` it uses `0.15`\n",
    "- When you enter `15` it assumes you meant `0.15` (divides by 100)\n",
    "- When you enter `15%` it assumes you meant `0.15` (removes the %, then divides by 100)\n",
    "\n",
    "\n",
    "Likewise we should do the same for currency input. Assuming the user might enter a $"
   ]
  },
  {
   "cell_type": "code",
   "execution_count": 2,
   "metadata": {},
   "outputs": [],
   "source": [
    "# exploring how to parse percentages\n"
   ]
  },
  {
   "cell_type": "code",
   "execution_count": 12,
   "metadata": {},
   "outputs": [
    {
     "name": "stdout",
     "output_type": "stream",
     "text": [
      "When text 0.25 then pct(text) -> 0.25 ACTUAL 0.25\n",
      "When text 15 then pct(text) -> 0.15 ACUTAL 0.15\n",
      "When text 15% then pct(text) -> 0.15 ACTUAL 0.15\n"
     ]
    }
   ],
   "source": [
    "## Function: percentage - parses string input into a float as a percentage\n",
    "## Arguments: text\n",
    "## Returns float\n",
    "def pct(text):\n",
    "    text = text.replace(\"%\", \"\")\n",
    "    number = float(text)\n",
    "    if number > 1:\n",
    "        return number /100\n",
    "    else:\n",
    "        return number\n",
    "\n",
    "print(\"When text 0.25 then pct(text) -> 0.25 ACTUAL\", pct(\"0.25\"))\n",
    "print(\"When text 15 then pct(text) -> 0.15 ACUTAL\", pct(\"15\"))\n",
    "print(\"When text 15% then pct(text) -> 0.15 ACTUAL\", pct(\"15 %\"))\n",
    "## Function: currency - parses string input into a float as currency\n",
    "## Arguments: text\n",
    "## Returns float\n",
    "\n"
   ]
  },
  {
   "cell_type": "code",
   "execution_count": 1,
   "metadata": {},
   "outputs": [],
   "source": [
    "## Main Program Goes Here"
   ]
  },
  {
   "cell_type": "code",
   "execution_count": 13,
   "metadata": {},
   "outputs": [
    {
     "name": "stdout",
     "output_type": "stream",
     "text": [
      "Enter tip 15%\n",
      "0.15\n"
     ]
    }
   ],
   "source": [
    "tip = pct(input(\"Enter tip \"))\n",
    "print(tip)"
   ]
  },
  {
   "cell_type": "code",
   "execution_count": null,
   "metadata": {},
   "outputs": [],
   "source": []
  }
 ],
 "metadata": {
  "anaconda-cloud": {},
  "kernelspec": {
   "display_name": "Python 3",
   "language": "python",
   "name": "python3"
  },
  "language_info": {
   "codemirror_mode": {
    "name": "ipython",
    "version": 3
   },
   "file_extension": ".py",
   "mimetype": "text/x-python",
   "name": "python",
   "nbconvert_exporter": "python",
   "pygments_lexer": "ipython3",
   "version": "3.6.6"
  }
 },
 "nbformat": 4,
 "nbformat_minor": 1
}
