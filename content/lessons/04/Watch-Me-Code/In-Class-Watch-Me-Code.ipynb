{
 "cells": [
  {
   "cell_type": "code",
   "execution_count": 4,
   "metadata": {},
   "outputs": [
    {
     "name": "stdout",
     "output_type": "stream",
     "text": [
      "How many gallons of milk do you have?0.5\n",
      "Milk levels are fine.\n",
      "Program is done\n"
     ]
    }
   ],
   "source": [
    "low_milk = 0.5\n",
    "milk_on_hand = float(input(\"How many gallons of milk do you have?\"))\n",
    "if milk_on_hand <= low_milk:\n",
    "    print(\"Go to wegmans and get more milk ASAP\")\n",
    "else:\n",
    "    print(\"Milk levels are fine.\")\n",
    "    \n",
    "print(\"Program is done\")"
   ]
  },
  {
   "cell_type": "code",
   "execution_count": 7,
   "metadata": {},
   "outputs": [
    {
     "name": "stdout",
     "output_type": "stream",
     "text": [
      "How much milk do you have on hand? 0.1\n",
      "How man cans of beer are left?8\n",
      "Go to wegmans!\n"
     ]
    }
   ],
   "source": [
    "milk_level = float(input(\"How much milk do you have on hand? \"))\n",
    "beer_cans = int(input(\"How man cans of beer are left?\"))\n",
    "if beer_cans < 6 or milk_level < 0.5:\n",
    "    print(\"Go to wegmans!\")\n",
    "else:\n",
    "    print(\"You're good for now!\")\n",
    "    \n"
   ]
  },
  {
   "cell_type": "markdown",
   "metadata": {},
   "source": [
    "Beer Milk Wegamns\n",
    "5     1    Yes\n",
    "10    0.4  Yes\n",
    "1     0.1  Yes\n",
    "10    1    No"
   ]
  },
  {
   "cell_type": "code",
   "execution_count": 8,
   "metadata": {},
   "outputs": [],
   "source": [
    "raining = True\n",
    "age = 100\n"
   ]
  },
  {
   "cell_type": "code",
   "execution_count": 9,
   "metadata": {},
   "outputs": [
    {
     "data": {
      "text/plain": [
       "False"
      ]
     },
     "execution_count": 9,
     "metadata": {},
     "output_type": "execute_result"
    }
   ],
   "source": [
    "not raining"
   ]
  },
  {
   "cell_type": "code",
   "execution_count": 11,
   "metadata": {},
   "outputs": [
    {
     "data": {
      "text/plain": [
       "True"
      ]
     },
     "execution_count": 11,
     "metadata": {},
     "output_type": "execute_result"
    }
   ],
   "source": [
    "age > 100 or not age < 100\n"
   ]
  },
  {
   "cell_type": "code",
   "execution_count": 13,
   "metadata": {},
   "outputs": [
    {
     "data": {
      "text/plain": [
       "True"
      ]
     },
     "execution_count": 13,
     "metadata": {},
     "output_type": "execute_result"
    }
   ],
   "source": [
    "not age < 100"
   ]
  },
  {
   "cell_type": "code",
   "execution_count": 15,
   "metadata": {},
   "outputs": [
    {
     "name": "stdout",
     "output_type": "stream",
     "text": [
      "Is it raining? yes\n",
      "Do you own a jacket? yes\n",
      "Do you have an iPhone? yes\n",
      "bring an umbrella\n"
     ]
    }
   ],
   "source": [
    "raining = input(\"Is it raining? \")\n",
    "jacket = input(\"Do you own a jacket? \")\n",
    "phone = input(\"Do you have an iPhone? \")\n",
    "\n",
    "if raining == 'yes':\n",
    "    print(\"bring an umbrella\")\n",
    "elif jacket == 'yes':\n",
    "    print(\"I hope its comfy\")\n",
    "elif phone == 'yes':\n",
    "    print(\"Boo. I like the google pixel\")\n",
    "else:\n",
    "    print(\"something\")"
   ]
  },
  {
   "cell_type": "code",
   "execution_count": null,
   "metadata": {},
   "outputs": [],
   "source": []
  }
 ],
 "metadata": {
  "kernelspec": {
   "display_name": "Python 3",
   "language": "python",
   "name": "python3"
  },
  "language_info": {
   "codemirror_mode": {
    "name": "ipython",
    "version": 3
   },
   "file_extension": ".py",
   "mimetype": "text/x-python",
   "name": "python",
   "nbconvert_exporter": "python",
   "pygments_lexer": "ipython3",
   "version": "3.6.6"
  }
 },
 "nbformat": 4,
 "nbformat_minor": 2
}
