{
 "cells": [
  {
   "cell_type": "markdown",
   "metadata": {},
   "source": [
    "# End-To-End-Example: Fudgebonia Taxes\n",
    "\n",
    "The country of “Fudgebonia” determines your tax rate from the number of dependents:\n",
    "\n",
    "- 0 is 30%\n",
    "- 1 is 25% \n",
    "- 2 is 18% \n",
    "- 3 or more is 10%  \n",
    "\n",
    "Write a program to prompt for number of dependents (0-3) and annual income.\n",
    "\n",
    "It should then calculate your tax rate and tax bill. Format numbers properly! Handle bad input!\n"
   ]
  },
  {
   "cell_type": "markdown",
   "metadata": {
    "collapsed": true
   },
   "source": [
    "## TODO list\n",
    "\n",
    "\n"
   ]
  },
  {
   "cell_type": "code",
   "execution_count": 21,
   "metadata": {},
   "outputs": [
    {
     "name": "stdout",
     "output_type": "stream",
     "text": [
      "Enter your number of dependents: 3\n",
      "How much did you make in 2018? sdakjfksjdhflkajds\n",
      "Bad Input!!\n"
     ]
    }
   ],
   "source": [
    "try:\n",
    "    deps = int(input(\"Enter your number of dependents: \"))\n",
    "    salary = float(input(\"How much did you make in 2018? \"))\n",
    "    if deps <0:\n",
    "        print(\"Dependents must be > 0\")\n",
    "    else:\n",
    "        if deps == 0:\n",
    "            tax_rate = .30\n",
    "        elif deps == 1:\n",
    "            tax_rate = .25\n",
    "        elif deps == 2:\n",
    "            tax_rate = .18\n",
    "        else:\n",
    "            tax_rate = .1\n",
    "        print(\"For %d dependents, your tax rate is %.2f\" %(deps, tax_rate))\n",
    "        tax = tax_rate * salary\n",
    "        net_pay = salary - tax\n",
    "        print(\"Your Tax is  $ %.2f\" % tax)\n",
    "        print(\"Your Net Pay $ %.2f\" % net_pay)\n",
    "except ValueError:\n",
    "    print(\"Bad Input!!\")\n"
   ]
  },
  {
   "cell_type": "code",
   "execution_count": null,
   "metadata": {},
   "outputs": [],
   "source": []
  },
  {
   "cell_type": "code",
   "execution_count": null,
   "metadata": {},
   "outputs": [],
   "source": []
  }
 ],
 "metadata": {
  "anaconda-cloud": {},
  "kernelspec": {
   "display_name": "Python 3",
   "language": "python",
   "name": "python3"
  },
  "language_info": {
   "codemirror_mode": {
    "name": "ipython",
    "version": 3
   },
   "file_extension": ".py",
   "mimetype": "text/x-python",
   "name": "python",
   "nbconvert_exporter": "python",
   "pygments_lexer": "ipython3",
   "version": "3.6.6"
  }
 },
 "nbformat": 4,
 "nbformat_minor": 1
}
